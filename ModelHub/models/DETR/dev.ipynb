{
 "cells": [
  {
   "cell_type": "code",
   "execution_count": 1,
   "metadata": {},
   "outputs": [],
   "source": [
    "import torch"
   ]
  },
  {
   "cell_type": "code",
   "execution_count": 2,
   "metadata": {},
   "outputs": [
    {
     "name": "stderr",
     "output_type": "stream",
     "text": [
      "Downloading: \"https://github.com/facebookresearch/detr/archive/main.zip\" to C:\\Users\\Administrator/.cache\\torch\\hub\\main.zip\n",
      "Downloading: \"https://download.pytorch.org/models/resnet50-0676ba61.pth\" to C:\\Users\\Administrator/.cache\\torch\\hub\\checkpoints\\resnet50-0676ba61.pth\n",
      "100%|██████████| 97.8M/97.8M [00:08<00:00, 12.0MB/s]\n",
      "Downloading: \"https://dl.fbaipublicfiles.com/detr/detr-r50-e632da11.pth\" to C:\\Users\\Administrator/.cache\\torch\\hub\\checkpoints\\detr-r50-e632da11.pth\n",
      "100%|██████████| 159M/159M [00:14<00:00, 11.5MB/s] \n"
     ]
    }
   ],
   "source": [
    "model = torch.hub.load('facebookresearch/detr:main', 'detr_resnet50', pretrained=True)"
   ]
  },
  {
   "cell_type": "code",
   "execution_count": 3,
   "metadata": {},
   "outputs": [
    {
     "data": {
      "text/plain": [
       "['T_destination',\n",
       " '__annotations__',\n",
       " '__call__',\n",
       " '__class__',\n",
       " '__delattr__',\n",
       " '__dict__',\n",
       " '__dir__',\n",
       " '__doc__',\n",
       " '__eq__',\n",
       " '__format__',\n",
       " '__ge__',\n",
       " '__getattr__',\n",
       " '__getattribute__',\n",
       " '__gt__',\n",
       " '__hash__',\n",
       " '__init__',\n",
       " '__init_subclass__',\n",
       " '__le__',\n",
       " '__lt__',\n",
       " '__module__',\n",
       " '__ne__',\n",
       " '__new__',\n",
       " '__reduce__',\n",
       " '__reduce_ex__',\n",
       " '__repr__',\n",
       " '__setattr__',\n",
       " '__setstate__',\n",
       " '__sizeof__',\n",
       " '__str__',\n",
       " '__subclasshook__',\n",
       " '__weakref__',\n",
       " '_apply',\n",
       " '_backward_hooks',\n",
       " '_buffers',\n",
       " '_call_impl',\n",
       " '_forward_hooks',\n",
       " '_forward_pre_hooks',\n",
       " '_get_backward_hooks',\n",
       " '_get_name',\n",
       " '_is_full_backward_hook',\n",
       " '_load_from_state_dict',\n",
       " '_load_state_dict_pre_hooks',\n",
       " '_maybe_warn_non_full_backward_hook',\n",
       " '_modules',\n",
       " '_named_members',\n",
       " '_non_persistent_buffers_set',\n",
       " '_parameters',\n",
       " '_register_load_state_dict_pre_hook',\n",
       " '_register_state_dict_hook',\n",
       " '_replicate_for_data_parallel',\n",
       " '_save_to_state_dict',\n",
       " '_set_aux_loss',\n",
       " '_slow_forward',\n",
       " '_state_dict_hooks',\n",
       " '_version',\n",
       " 'add_module',\n",
       " 'apply',\n",
       " 'aux_loss',\n",
       " 'backbone',\n",
       " 'bbox_embed',\n",
       " 'bfloat16',\n",
       " 'buffers',\n",
       " 'children',\n",
       " 'class_embed',\n",
       " 'cpu',\n",
       " 'cuda',\n",
       " 'double',\n",
       " 'dump_patches',\n",
       " 'eval',\n",
       " 'extra_repr',\n",
       " 'float',\n",
       " 'forward',\n",
       " 'get_buffer',\n",
       " 'get_extra_state',\n",
       " 'get_parameter',\n",
       " 'get_submodule',\n",
       " 'half',\n",
       " 'input_proj',\n",
       " 'load_state_dict',\n",
       " 'modules',\n",
       " 'named_buffers',\n",
       " 'named_children',\n",
       " 'named_modules',\n",
       " 'named_parameters',\n",
       " 'num_queries',\n",
       " 'parameters',\n",
       " 'query_embed',\n",
       " 'register_backward_hook',\n",
       " 'register_buffer',\n",
       " 'register_forward_hook',\n",
       " 'register_forward_pre_hook',\n",
       " 'register_full_backward_hook',\n",
       " 'register_module',\n",
       " 'register_parameter',\n",
       " 'requires_grad_',\n",
       " 'set_extra_state',\n",
       " 'share_memory',\n",
       " 'state_dict',\n",
       " 'to',\n",
       " 'to_empty',\n",
       " 'train',\n",
       " 'training',\n",
       " 'transformer',\n",
       " 'type',\n",
       " 'xpu',\n",
       " 'zero_grad']"
      ]
     },
     "execution_count": 3,
     "metadata": {},
     "output_type": "execute_result"
    }
   ],
   "source": [
    "dir(model)"
   ]
  },
  {
   "cell_type": "code",
   "execution_count": 4,
   "metadata": {},
   "outputs": [],
   "source": [
    "from PIL import Image \n",
    "\n",
    "img = Image.open('zidane.jpg')"
   ]
  },
  {
   "cell_type": "code",
   "execution_count": 8,
   "metadata": {},
   "outputs": [
    {
     "name": "stderr",
     "output_type": "stream",
     "text": [
      "C:\\Users\\Administrator/.cache\\torch\\hub\\facebookresearch_detr_main\\models\\position_encoding.py:41: UserWarning: __floordiv__ is deprecated, and its behavior will change in a future version of pytorch. It currently rounds toward 0 (like the 'trunc' function NOT 'floor'). This results in incorrect rounding for negative values. To keep the current behavior, use torch.div(a, b, rounding_mode='trunc'), or for actual floor division, use torch.div(a, b, rounding_mode='floor').\n",
      "  dim_t = self.temperature ** (2 * (dim_t // 2) / self.num_pos_feats)\n"
     ]
    },
    {
     "name": "stdout",
     "output_type": "stream",
     "text": [
      "{'pred_logits': tensor([[[-17.8277,  -1.1183,  -6.8325,  ...,  -8.7809,  -4.2013,   9.7501],\n",
      "         [-18.9028,  -1.2861, -10.1813,  ..., -12.6598,  -2.5825,  11.8032],\n",
      "         [-20.4857,   1.2731,  -9.8734,  ..., -11.6334,  -7.3509,  11.7145],\n",
      "         ...,\n",
      "         [-16.6541,  -1.2568, -10.0348,  ...,  -8.2975,  -2.4265,   9.9010],\n",
      "         [-14.9384,  10.5533,  -6.4617,  ..., -11.6251,  -5.8903,   6.7458],\n",
      "         [-15.8555,  -2.2162,  -8.9177,  ...,  -9.2907,  -2.2909,  10.1224]]],\n",
      "       grad_fn=<SelectBackward0>), 'pred_boxes': tensor([[[0.2229, 0.8131, 0.1206, 0.3573],\n",
      "         [0.5104, 0.5517, 0.0200, 0.0575],\n",
      "         [0.2801, 0.7133, 0.3368, 0.5556],\n",
      "         [0.7671, 0.4661, 0.0600, 0.2114],\n",
      "         [0.5825, 0.6371, 0.6216, 0.7030],\n",
      "         [0.6112, 0.6368, 0.6080, 0.7101],\n",
      "         [0.4888, 0.6152, 0.0345, 0.1509],\n",
      "         [0.3671, 0.8038, 0.0551, 0.3890],\n",
      "         [0.3593, 0.7353, 0.0386, 0.3263],\n",
      "         [0.5168, 0.4418, 0.7841, 0.4103],\n",
      "         [0.8012, 0.5830, 0.1081, 0.3119],\n",
      "         [0.8645, 0.8334, 0.0615, 0.3220],\n",
      "         [0.7121, 0.5207, 0.3918, 0.9322],\n",
      "         [0.8367, 0.7130, 0.0867, 0.5422],\n",
      "         [0.4500, 0.8272, 0.0715, 0.2417],\n",
      "         [0.4906, 0.5098, 0.8428, 0.4531],\n",
      "         [0.8138, 0.5482, 0.0543, 0.2350],\n",
      "         [0.7971, 0.4534, 0.0243, 0.0624],\n",
      "         [0.7967, 0.5208, 0.0321, 0.1723],\n",
      "         [0.8242, 0.5900, 0.1179, 0.3474],\n",
      "         [0.8541, 0.8288, 0.0779, 0.3300],\n",
      "         [0.8300, 0.7112, 0.1112, 0.5637],\n",
      "         [0.8590, 0.7138, 0.0691, 0.5335],\n",
      "         [0.8646, 0.8450, 0.0566, 0.3018],\n",
      "         [0.7736, 0.4956, 0.0603, 0.2021],\n",
      "         [0.7781, 0.5715, 0.0584, 0.3110],\n",
      "         [0.8423, 0.7053, 0.0916, 0.5371],\n",
      "         [0.3715, 0.8014, 0.0665, 0.3902],\n",
      "         [0.5079, 0.5494, 0.0179, 0.0494],\n",
      "         [0.8560, 0.7122, 0.0482, 0.5163],\n",
      "         [0.8391, 0.7089, 0.0854, 0.5654],\n",
      "         [0.4171, 0.8032, 0.1876, 0.3901],\n",
      "         [0.3625, 0.8612, 0.0488, 0.2755],\n",
      "         [0.8121, 0.4960, 0.0329, 0.1246],\n",
      "         [0.8568, 0.7170, 0.0678, 0.5445],\n",
      "         [0.5003, 0.5560, 0.0228, 0.0642],\n",
      "         [0.8397, 0.7073, 0.1046, 0.5560],\n",
      "         [0.3127, 0.6891, 0.3949, 0.6034],\n",
      "         [0.3771, 0.8053, 0.0681, 0.3863],\n",
      "         [0.7830, 0.5069, 0.0315, 0.1433],\n",
      "         [0.7990, 0.4637, 0.0275, 0.0778],\n",
      "         [0.8165, 0.5042, 0.0751, 0.1615],\n",
      "         [0.7951, 0.5565, 0.1085, 0.3866],\n",
      "         [0.4953, 0.5991, 0.8728, 0.6398],\n",
      "         [0.8354, 0.6586, 0.0781, 0.4413],\n",
      "         [0.5068, 0.4667, 0.7743, 0.3589],\n",
      "         [0.7944, 0.5070, 0.0355, 0.1631],\n",
      "         [0.7599, 0.6689, 0.0680, 0.1375],\n",
      "         [0.8292, 0.6798, 0.1160, 0.6225],\n",
      "         [0.3680, 0.7505, 0.0412, 0.2835],\n",
      "         [0.4167, 0.7178, 0.1656, 0.5454],\n",
      "         [0.7902, 0.4954, 0.0585, 0.1935],\n",
      "         [0.3780, 0.8089, 0.0763, 0.3802],\n",
      "         [0.4020, 0.7896, 0.1443, 0.4157],\n",
      "         [0.3616, 0.8130, 0.0456, 0.3707],\n",
      "         [0.3916, 0.7953, 0.1223, 0.4053],\n",
      "         [0.8174, 0.5813, 0.0453, 0.2901],\n",
      "         [0.7587, 0.5338, 0.0938, 0.3558],\n",
      "         [0.6009, 0.6358, 0.5862, 0.7065],\n",
      "         [0.5066, 0.5249, 0.8198, 0.9324],\n",
      "         [0.3699, 0.6346, 0.5483, 0.7136],\n",
      "         [0.4514, 0.6353, 0.7249, 0.7139],\n",
      "         [0.8283, 0.5051, 0.0555, 0.1430],\n",
      "         [0.2342, 0.7065, 0.2413, 0.5683],\n",
      "         [0.7983, 0.4606, 0.0245, 0.0718],\n",
      "         [0.3707, 0.8058, 0.0619, 0.3862],\n",
      "         [0.8204, 0.6100, 0.1066, 0.3577],\n",
      "         [0.3163, 0.6321, 0.4433, 0.7177],\n",
      "         [0.3654, 0.7361, 0.0402, 0.2598],\n",
      "         [0.8571, 0.7162, 0.0664, 0.5308],\n",
      "         [0.8127, 0.4862, 0.0326, 0.1066],\n",
      "         [0.5021, 0.6346, 0.8114, 0.7092],\n",
      "         [0.5017, 0.5040, 0.7867, 0.4262],\n",
      "         [0.7826, 0.5743, 0.0393, 0.1981],\n",
      "         [0.7930, 0.6718, 0.1291, 0.1512],\n",
      "         [0.7866, 0.5786, 0.0548, 0.3059],\n",
      "         [0.2630, 0.7140, 0.2570, 0.5522],\n",
      "         [0.8605, 0.8432, 0.0544, 0.3005],\n",
      "         [0.4125, 0.7514, 0.1710, 0.4847],\n",
      "         [0.8227, 0.5003, 0.0365, 0.1260],\n",
      "         [0.8621, 0.8356, 0.0639, 0.3142],\n",
      "         [0.4040, 0.8014, 0.1507, 0.3936],\n",
      "         [0.8635, 0.8212, 0.0648, 0.3466],\n",
      "         [0.6130, 0.5453, 0.6030, 0.9011],\n",
      "         [0.3617, 0.7965, 0.0477, 0.4011],\n",
      "         [0.8588, 0.8361, 0.0683, 0.3191],\n",
      "         [0.8615, 0.8364, 0.0620, 0.3103],\n",
      "         [0.6536, 0.5219, 0.5303, 0.9354],\n",
      "         [0.4910, 0.5398, 0.7758, 0.3549],\n",
      "         [0.5977, 0.7649, 0.5255, 0.4561],\n",
      "         [0.7224, 0.6714, 0.3716, 0.6457],\n",
      "         [0.8084, 0.5516, 0.0711, 0.2532],\n",
      "         [0.6204, 0.5215, 0.6010, 0.9347],\n",
      "         [0.7531, 0.4723, 0.0700, 0.2305],\n",
      "         [0.7679, 0.5506, 0.0706, 0.3295],\n",
      "         [0.6095, 0.6344, 0.6249, 0.7111],\n",
      "         [0.8019, 0.4867, 0.0256, 0.1047],\n",
      "         [0.7827, 0.4926, 0.0341, 0.1363],\n",
      "         [0.7401, 0.5225, 0.3330, 0.9318],\n",
      "         [0.7652, 0.4752, 0.0753, 0.2385]]], grad_fn=<SelectBackward0>)}\n"
     ]
    }
   ],
   "source": [
    "import torchvision.transforms as T\n",
    "model.eval()\n",
    "img_tensor = T.ToTensor()(img)\n",
    "outputs = model(img_tensor.unsqueeze(0))\n",
    "print(outputs)"
   ]
  },
  {
   "cell_type": "markdown",
   "metadata": {},
   "source": [
    "def "
   ]
  },
  {
   "cell_type": "code",
   "execution_count": 10,
   "metadata": {},
   "outputs": [
    {
     "data": {
      "text/plain": [
       "torch.Size([1, 100, 92])"
      ]
     },
     "execution_count": 10,
     "metadata": {},
     "output_type": "execute_result"
    }
   ],
   "source": [
    "outputs['pred_logits'].shape\n",
    "# 进行100个框的预测，每个框有91个类别的预测值，每个类别的预测值是一个0-1的概率值，还有一个背景类别"
   ]
  },
  {
   "cell_type": "code",
   "execution_count": null,
   "metadata": {},
   "outputs": [],
   "source": [
    "from torch import nn\n",
    "def pred_logits_loss(pred_logits, target):\n",
    "    \"\"\"\n",
    "    pred_logits: (N, num_queries, num_classes) -> (N, 100, 91)\n",
    "    target: (N, num_queries) -> (N, 100)\n",
    "    \"\"\"\n",
    "    # 交叉熵损失函数\n",
    "    criterion = nn.CrossEntropyLoss()\n",
    "    # 损失函数的输入是 (N, num_queries, num_classes) 和 (N, num_queries)\n",
    "    # 损失函数的输出是 (N, num_queries)\n",
    "    loss = criterion(pred_logits, target)\n",
    "    return loss"
   ]
  },
  {
   "cell_type": "code",
   "execution_count": null,
   "metadata": {},
   "outputs": [],
   "source": [
    "def pred_boxes_loss(pred_boxes, target):\n",
    "    \"\"\"\n",
    "    pred_boxes: (N, num_queries, 4) -> (N, 100, 4)\n",
    "    target: (N, num_queries, 4) -> (N, 100, 4)\n",
    "    \"\"\"\n",
    "    # 均方损失函数\n",
    "    criterion = nn.MSELoss()\n",
    "    # 损失函数的输入是 (N, num_queries, 4) 和 (N, num_queries, 4)\n",
    "    # 损失函数的输出是 (N, num_queries)\n",
    "    loss = criterion(pred_boxes, target)\n",
    "    return loss"
   ]
  },
  {
   "cell_type": "code",
   "execution_count": null,
   "metadata": {},
   "outputs": [],
   "source": [
    "optimizer = torch.optim.Adam(model.parameters(), lr=1e-4)\n"
   ]
  },
  {
   "cell_type": "code",
   "execution_count": null,
   "metadata": {},
   "outputs": [],
   "source": [
    "from torch import utils\n",
    "import math\n",
    "import sys\n",
    "\n",
    "# train\n",
    "def train_one_epoch(model, criterion, optimizer, data_loader, device, epoch, print_freq):\n",
    "    model.train()\n",
    "    metric_logger = utils.MetricLogger(delimiter=\"  \")\n",
    "    metric_logger.add_meter('lr', utils.SmoothedValue(window_size=1, fmt='{value:.6f}'))\n",
    "    header = 'Epoch: [{}]'.format(epoch)\n",
    "\n",
    "    lr_scheduler = None\n",
    "    if epoch == 0:\n",
    "        warmup_factor = 1. / 1000\n",
    "        warmup_iters = min(1000, len(data_loader) - 1)\n",
    "\n",
    "        lr_scheduler = utils.warmup_lr_scheduler(optimizer, warmup_iters, warmup_factor)\n",
    "\n",
    "    for images, targets in metric_logger.log_every(data_loader, print_freq, header):\n",
    "        images = list(image.to(device) for image in images)\n",
    "        targets = [{k: v.to(device) for k, v in t.items()} for t in targets]\n",
    "\n",
    "        loss_dict = model(images, targets)\n",
    "\n",
    "        losses = sum(loss for loss in loss_dict.values())\n",
    "\n",
    "        # reduce losses over all GPUs for logging purposes\n",
    "        loss_dict_reduced = utils.reduce_dict(loss_dict)\n",
    "        losses_reduced = sum(loss for loss in loss_dict_reduced.values())\n",
    "\n",
    "        loss_value = losses_reduced.item()\n",
    "\n",
    "        if not math.isfinite(loss_value):\n",
    "            print(\"Loss is {}, stopping training\".format(loss_value))\n",
    "            print(loss_dict_reduced)\n",
    "            sys.exit(1)\n",
    "\n",
    "        optimizer.zero_grad()\n",
    "        losses.backward()\n",
    "        optimizer.step()\n",
    "\n",
    "        if lr_scheduler is not None:\n",
    "            lr_scheduler.step()\n",
    "\n",
    "        metric_logger.update(loss=losses_reduced, **loss_dict_reduced)\n",
    "        metric_logger.update(lr=optimizer.param_groups[0][\"lr\"])\n",
    "\n",
    "    return metric_logger"
   ]
  }
 ],
 "metadata": {
  "kernelspec": {
   "display_name": "Python 3.9.7 ('base')",
   "language": "python",
   "name": "python3"
  },
  "language_info": {
   "codemirror_mode": {
    "name": "ipython",
    "version": 3
   },
   "file_extension": ".py",
   "mimetype": "text/x-python",
   "name": "python",
   "nbconvert_exporter": "python",
   "pygments_lexer": "ipython3",
   "version": "3.9.7"
  },
  "orig_nbformat": 4,
  "vscode": {
   "interpreter": {
    "hash": "679ca3d7e10d4fea823e60e28cb6f57bfb034a2481868839314afba603aaea83"
   }
  }
 },
 "nbformat": 4,
 "nbformat_minor": 2
}
