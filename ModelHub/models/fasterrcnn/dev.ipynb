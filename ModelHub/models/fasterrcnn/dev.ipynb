{
 "cells": [
  {
   "cell_type": "code",
   "execution_count": 1,
   "metadata": {},
   "outputs": [],
   "source": [
    "import sys\n",
    "\n",
    "sys.path.append('../../')\n",
    "from IModel import IModel\n",
    "import torch\n",
    "import mhutils\n",
    "import os\n",
    "import numpy as np\n",
    "import torch\n",
    "import torch.nn as nn\n",
    "import torch.nn.functional as F\n",
    "from torchvision import transforms\n",
    "from PIL import Image\n",
    "from network_files import FasterRCNN, AnchorsGenerator\n",
    "from backbone import BackboneWithFPN, LastLevelMaxPool\n",
    "import torchvision\n",
    "from torchvision.models.feature_extraction import create_feature_extractor\n",
    "\n",
    "\n"
   ]
  },
  {
   "cell_type": "code",
   "execution_count": 2,
   "metadata": {},
   "outputs": [],
   "source": [
    "__file__ = 'G:/python_projects/guiserver/ModelHub/models/fasterrcnn/dev.ipynb'\n",
    "num_classes = 6"
   ]
  },
  {
   "cell_type": "code",
   "execution_count": 3,
   "metadata": {},
   "outputs": [],
   "source": [
    "class MyFasterRCNN(IModel):\n",
    "    def __init__(self):\n",
    "        super().__init__()\n",
    "        self.device = torch.device('cuda')\n",
    "        _dir, _file = mhutils.get_dir_and_file_name(__file__)\n",
    "        print(os.path.join(_dir, 'model.pth'))\n",
    "        self.model = torch.load(os.path.join(_dir, 'model.pth'))\n",
    "        self.model.to(self.device)\n",
    "        self.model.eval()\n",
    "        self.transform = transforms.Compose([transforms.ToTensor()])\n",
    "\n",
    "    def process(self, data):\n",
    "        image = self.transform(data).to(self.device)\n",
    "        image = image.unsqueeze(0)\n",
    "        with torch.no_grad():\n",
    "            prediction = self.model(image)\n",
    "        return prediction\n",
    "\n",
    "        "
   ]
  },
  {
   "cell_type": "code",
   "execution_count": 4,
   "metadata": {},
   "outputs": [],
   "source": [
    "\n",
    "\n"
   ]
  },
  {
   "cell_type": "code",
   "execution_count": 5,
   "metadata": {},
   "outputs": [
    {
     "name": "stdout",
     "output_type": "stream",
     "text": [
      "G:\\python_projects\\guiserver\\ModelHub\\models\\fasterrcnn\\model.pth\n"
     ]
    },
    {
     "name": "stderr",
     "output_type": "stream",
     "text": [
      "g:\\Anaconda\\lib\\site-packages\\torch\\functional.py:568: UserWarning: torch.meshgrid: in an upcoming release, it will be required to pass the indexing argument. (Triggered internally at  C:\\actions-runner\\_work\\pytorch\\pytorch\\builder\\windows\\pytorch\\aten\\src\\ATen\\native\\TensorShape.cpp:2228.)\n",
      "  return _VF.meshgrid(tensors, **kwargs)  # type: ignore[attr-defined]\n"
     ]
    },
    {
     "name": "stdout",
     "output_type": "stream",
     "text": [
      "[{'boxes': tensor([[508.2698, 377.6913, 544.5655, 430.1021],\n",
      "        [106.1962, 212.9212, 138.6339, 236.9971],\n",
      "        [213.7300, 251.8662, 250.8605, 284.5644],\n",
      "        [170.6121,  59.0685, 206.4154,  88.6739],\n",
      "        [211.0186, 123.4271, 250.3691, 157.0922],\n",
      "        [ 55.3085, 151.2907,  80.0850, 181.9887],\n",
      "        [185.1413, 372.6773, 218.7355, 398.4203],\n",
      "        [ 56.6982, 109.7372,  87.2514, 144.1668],\n",
      "        [327.7215, 194.1673, 360.0912, 245.8175],\n",
      "        [400.4447, 411.9114, 433.7747, 445.7625],\n",
      "        [ 53.4340, 103.9276,  85.3388, 179.3799],\n",
      "        [158.3887,  56.5088, 203.5148,  87.9221],\n",
      "        [ 12.1635, 300.9502,  44.9748, 328.6194],\n",
      "        [109.1317, 211.7875, 145.7340, 238.5816],\n",
      "        [309.0312, 196.4545, 378.2424, 249.0599]], device='cuda:0'), 'labels': tensor([1, 2, 3, 2, 1, 4, 6, 6, 5, 4, 6, 6, 2, 6, 5], device='cuda:0'), 'scores': tensor([0.9995, 0.9993, 0.9990, 0.9987, 0.9986, 0.9982, 0.9980, 0.9956, 0.9939,\n",
      "        0.7605, 0.4079, 0.1246, 0.0621, 0.0595, 0.0590], device='cuda:0')}]\n"
     ]
    }
   ],
   "source": [
    "model = MyFasterRCNN()\n",
    "from PIL import Image\n",
    "prediction = model.process(Image.open('00041030.jpg'))\n",
    "print(prediction)"
   ]
  }
 ],
 "metadata": {
  "kernelspec": {
   "display_name": "Python 3.9.7 ('base')",
   "language": "python",
   "name": "python3"
  },
  "language_info": {
   "codemirror_mode": {
    "name": "ipython",
    "version": 3
   },
   "file_extension": ".py",
   "mimetype": "text/x-python",
   "name": "python",
   "nbconvert_exporter": "python",
   "pygments_lexer": "ipython3",
   "version": "3.9.7"
  },
  "orig_nbformat": 4,
  "vscode": {
   "interpreter": {
    "hash": "679ca3d7e10d4fea823e60e28cb6f57bfb034a2481868839314afba603aaea83"
   }
  }
 },
 "nbformat": 4,
 "nbformat_minor": 2
}
