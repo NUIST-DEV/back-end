{
 "cells": [
  {
   "cell_type": "code",
   "execution_count": 1,
   "metadata": {},
   "outputs": [],
   "source": [
    "from ModelHub import ModelHub, get_image_by_name\n"
   ]
  },
  {
   "cell_type": "code",
   "execution_count": 2,
   "metadata": {},
   "outputs": [
    {
     "name": "stdout",
     "output_type": "stream",
     "text": [
      "Loaded model: ConvNeXt_tiny\n",
      "G:\\python_projects\\guiserver\\ModelHub\\models\\Yolov5\n"
     ]
    },
    {
     "name": "stderr",
     "output_type": "stream",
     "text": [
      "\u001b[31m\u001b[1mrequirements:\u001b[0m YOLOv5 requirement \"tqdm>=4.64.0\" not found, attempting AutoUpdate...\n",
      "\u001b[31m\u001b[1mrequirements:\u001b[0m  Command 'pip install \"tqdm>=4.64.0\"  ' returned non-zero exit status 2.\n",
      "YOLOv5  2022-9-28 Python-3.9.7 torch-1.11.0+cu113 CUDA:0 (NVIDIA GeForce GTX 1080 Ti, 11264MiB)\n",
      "\n",
      "Fusing layers... \n",
      "YOLOv5s summary: 213 layers, 7225885 parameters, 0 gradients\n",
      "Adding AutoShape... \n"
     ]
    },
    {
     "name": "stdout",
     "output_type": "stream",
     "text": [
      "Loaded model: Yolov5\n"
     ]
    }
   ],
   "source": [
    "modelhub = ModelHub()"
   ]
  },
  {
   "cell_type": "code",
   "execution_count": 3,
   "metadata": {},
   "outputs": [
    {
     "data": {
      "text/plain": [
       "{'ConvNeXt_tiny': <TestModel.TestModel at 0x1cc7ba23dc0>,\n",
       " 'Yolov5': <yolov5.yolov5 at 0x1cc7b82da60>}"
      ]
     },
     "execution_count": 3,
     "metadata": {},
     "output_type": "execute_result"
    }
   ],
   "source": [
    "modelhub.models"
   ]
  },
  {
   "cell_type": "code",
   "execution_count": null,
   "metadata": {},
   "outputs": [],
   "source": [
    "# modelhub.process('resnet18', 'dog.jpg')"
   ]
  },
  {
   "cell_type": "code",
   "execution_count": null,
   "metadata": {},
   "outputs": [],
   "source": [
    "modelhub.process('TestModel', {\n",
    "    'image': get_image_by_name('ok1.jpeg'),\n",
    "})"
   ]
  },
  {
   "cell_type": "code",
   "execution_count": null,
   "metadata": {},
   "outputs": [],
   "source": [
    "modelhub.process('TestModel', {\n",
    "    'image': get_image_by_name('ok2.jpeg'),\n",
    "})"
   ]
  },
  {
   "cell_type": "code",
   "execution_count": null,
   "metadata": {},
   "outputs": [],
   "source": [
    "modelhub.process('TestModel', {\n",
    "    'image': get_image_by_name('ok3.jpeg'),\n",
    "})"
   ]
  },
  {
   "cell_type": "code",
   "execution_count": null,
   "metadata": {},
   "outputs": [],
   "source": [
    "modelhub.process('TestModel', {\n",
    "    'image': get_image_by_name('def1.jpeg'),\n",
    "})"
   ]
  },
  {
   "cell_type": "code",
   "execution_count": null,
   "metadata": {},
   "outputs": [],
   "source": [
    "modelhub.process('TestModel', {\n",
    "    'image': get_image_by_name('def2.jpeg'),\n",
    "})"
   ]
  }
 ],
 "metadata": {
  "kernelspec": {
   "display_name": "Python 3.9.7 ('base')",
   "language": "python",
   "name": "python3"
  },
  "language_info": {
   "codemirror_mode": {
    "name": "ipython",
    "version": 3
   },
   "file_extension": ".py",
   "mimetype": "text/x-python",
   "name": "python",
   "nbconvert_exporter": "python",
   "pygments_lexer": "ipython3",
   "version": "3.9.7"
  },
  "orig_nbformat": 4,
  "vscode": {
   "interpreter": {
    "hash": "679ca3d7e10d4fea823e60e28cb6f57bfb034a2481868839314afba603aaea83"
   }
  }
 },
 "nbformat": 4,
 "nbformat_minor": 2
}
