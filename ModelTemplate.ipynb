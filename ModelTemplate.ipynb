{
 "cells": [
  {
   "cell_type": "code",
   "execution_count": null,
   "metadata": {},
   "outputs": [],
   "source": [
    "from flask import jsonify\n",
    "import os\n",
    "import cv2\n",
    "import numpy as np\n",
    "import torch"
   ]
  },
  {
   "cell_type": "code",
   "execution_count": null,
   "metadata": {},
   "outputs": [],
   "source": [
    "IMAGES_DIR = './images/'"
   ]
  },
  {
   "cell_type": "code",
   "execution_count": null,
   "metadata": {},
   "outputs": [],
   "source": [
    "def init(image_dir=None):\n",
    "    # load model\n",
    "\n",
    "    # load variables\n",
    "    if image_dir is not None:\n",
    "        global IMAGES_DIR\n",
    "        IMAGES_DIR = image_dir"
   ]
  },
  {
   "cell_type": "code",
   "execution_count": null,
   "metadata": {},
   "outputs": [],
   "source": [
    "def get_image_tensor(image_name):\n",
    "    if image_name is None:\n",
    "        return None\n",
    "    # check if image exists\n",
    "    if not os.path.exists(IMAGES_DIR + image_name):\n",
    "        return None\n",
    "    # read image\n",
    "    image = cv2.imread(IMAGES_DIR + image_name)\n",
    "    # convert to tensor\n",
    "    image = torch.from_numpy(image)\n",
    "    return image"
   ]
  },
  {
   "cell_type": "code",
   "execution_count": null,
   "metadata": {},
   "outputs": [],
   "source": [
    "# get_image_tensor('kat.png')"
   ]
  },
  {
   "cell_type": "code",
   "execution_count": null,
   "metadata": {},
   "outputs": [],
   "source": [
    "from abc import abstractmethod\n",
    "\n",
    "class IModel:\n",
    "    '''process will be called by the controller'''\n",
    "    @abstractmethod\n",
    "    def process(self, data):\n",
    "        pass\n",
    "\n",
    "    @abstractmethod\n",
    "    def predict(self, tensor):\n",
    "        pass\n"
   ]
  },
  {
   "cell_type": "code",
   "execution_count": null,
   "metadata": {},
   "outputs": [],
   "source": [
    "class TestModel(IModel):\n",
    "    def process(self, data):\n",
    "        print(\"processing data\")\n",
    "        return self.predict(data)\n",
    "\n",
    "    def predict(self, tensor):\n",
    "        print(\"predicting\")\n",
    "        return jsonify({\"prediction\": \"test\"})"
   ]
  },
  {
   "cell_type": "code",
   "execution_count": null,
   "metadata": {},
   "outputs": [],
   "source": [
    "class ModelHub:\n",
    "    def __init__(self):\n",
    "        self.models = {}\n",
    "\n",
    "    def register(self, name, model:IModel):\n",
    "        self.models[name] = model\n",
    "\n",
    "    def get(self, name):\n",
    "        return self.models[name]\n",
    "\n",
    "    def get_all(self):\n",
    "        return self.models\n",
    "\n",
    "    def get_names(self):\n",
    "        return self.models.keys()\n",
    "\n",
    "    def process(self, name, data):\n",
    "        if name in self.models:\n",
    "            return self.models[name].process(data)\n",
    "        else:\n",
    "            return jsonify({\n",
    "                \"code\" : 404,\n",
    "                \"error\": \"model not found\"\n",
    "            })"
   ]
  },
  {
   "cell_type": "code",
   "execution_count": null,
   "metadata": {},
   "outputs": [],
   "source": [
    "hub = ModelHub()\n",
    "hub.register(\"test\", TestModel())"
   ]
  },
  {
   "cell_type": "code",
   "execution_count": null,
   "metadata": {},
   "outputs": [],
   "source": [
    "\n"
   ]
  }
 ],
 "metadata": {
  "kernelspec": {
   "display_name": "Python 3.9.7 ('base')",
   "language": "python",
   "name": "python3"
  },
  "language_info": {
   "codemirror_mode": {
    "name": "ipython",
    "version": 3
   },
   "file_extension": ".py",
   "mimetype": "text/x-python",
   "name": "python",
   "nbconvert_exporter": "python",
   "pygments_lexer": "ipython3",
   "version": "3.9.7"
  },
  "orig_nbformat": 4,
  "vscode": {
   "interpreter": {
    "hash": "679ca3d7e10d4fea823e60e28cb6f57bfb034a2481868839314afba603aaea83"
   }
  }
 },
 "nbformat": 4,
 "nbformat_minor": 2
}
