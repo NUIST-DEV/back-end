{
 "cells": [
  {
   "cell_type": "code",
   "execution_count": 1,
   "metadata": {},
   "outputs": [],
   "source": [
    "import os\n",
    "import cv2\n",
    "from flask import Flask, request, jsonify, Blueprint\n",
    "from werkzeug.utils import secure_filename\n",
    "from flask import Flask, make_response\n",
    "from turbojpeg import TurboJPEG\n",
    "import json"
   ]
  },
  {
   "cell_type": "code",
   "execution_count": 2,
   "metadata": {},
   "outputs": [],
   "source": [
    "#DEV ONLY\n",
    "__file__ = 'G:\\\\python_projects\\\\guiserver\\\\'"
   ]
  },
  {
   "cell_type": "code",
   "execution_count": 3,
   "metadata": {},
   "outputs": [],
   "source": [
    "#CONFIG\n",
    "_PORT_ = 7001\n",
    "\n",
    "UPLOAD_PATH = os.path.join(os.path.dirname(__file__), 'images')\n",
    "_THIS_URL_ = f'http://localhost:{_PORT_}/'\n",
    "\n",
    "ModelList = {\n",
    "}\n",
    "\n",
    "api = Blueprint('api', __name__,template_folder='templates')\n"
   ]
  },
  {
   "cell_type": "code",
   "execution_count": 4,
   "metadata": {},
   "outputs": [
    {
     "name": "stdout",
     "output_type": "stream",
     "text": [
      "images path:  G:\\python_projects\\guiserver\\images\n"
     ]
    }
   ],
   "source": [
    "print('images path: ', UPLOAD_PATH)"
   ]
  },
  {
   "cell_type": "code",
   "execution_count": 5,
   "metadata": {},
   "outputs": [],
   "source": [
    "def init():\n",
    "    ''' init the progam\n",
    "        create the dirs\n",
    "    '''\n",
    "    # 上传文件夹如果不存在则创建\n",
    "    if not os.path.exists(UPLOAD_PATH):\n",
    "        os.mkdir(UPLOAD_PATH)\n",
    "\n",
    "init()"
   ]
  },
  {
   "cell_type": "code",
   "execution_count": 6,
   "metadata": {},
   "outputs": [],
   "source": [
    "@api.route('/', methods=['GET', 'POST'])\n",
    "# @api.route('/api', methods=['GET', 'POST'])\n",
    "def hello():\n",
    "   return 'Hello'"
   ]
  },
  {
   "cell_type": "code",
   "execution_count": 7,
   "metadata": {},
   "outputs": [],
   "source": [
    "@api.route('/hello/<name>/', methods=['GET', 'POST'])\n",
    "def hello_name(name):\n",
    "   return 'Hello %s!' % name"
   ]
  },
  {
   "cell_type": "code",
   "execution_count": 8,
   "metadata": {},
   "outputs": [],
   "source": [
    "@api.route('/images/<image_name>', methods=['POST'])\n",
    "def get_image(image_name):\n",
    "    ''' get the image\n",
    "    '''\n",
    "    if os.path.exists(os.path.join(UPLOAD_PATH, image_name)):\n",
    "        print(f'{UPLOAD_PATH}\\\\{image_name}')\n",
    "        with open(os.path.join(UPLOAD_PATH, image_name), 'rb') as f:\n",
    "            image = f.read()\n",
    "            #创建response对象\n",
    "            resp = make_response(image)\n",
    "            #设置response的headers对象\n",
    "            resp.headers['Content-Type'] = 'image/*'\n",
    "            return resp\n",
    "    else:\n",
    "        return jsonify({\n",
    "            'code': 404,\n",
    "            'message': 'image not found'\n",
    "        })\n"
   ]
  },
  {
   "cell_type": "code",
   "execution_count": 9,
   "metadata": {},
   "outputs": [],
   "source": [
    "@api.route('/upload', methods=['POST','OPTIONS'])\n",
    "def upload_images_from_form_data():\n",
    "    if request.method == 'OPTIONS':\n",
    "        req = request\n",
    "        data = request.get_data().decode('utf-8')\n",
    "        print(data)\n",
    "        return jsonify({\n",
    "            'code': 200,\n",
    "            'message': 'ok'\n",
    "        })\n",
    "    elif request.method == 'POST':\n",
    "        # print(request.files)\n",
    "        imgs = request.files.getlist(\"image\")\n",
    "        # print(imgs)\n",
    "        urls = []\n",
    "        # 循环读取上传的文件并保存\n",
    "        for img in imgs:\n",
    "            filename = secure_filename(img.filename)\n",
    "            # print(filename)\n",
    "            img.save(os.path.join(UPLOAD_PATH, filename))\n",
    "            msg = f\"{_THIS_URL_}images/{filename}\"\n",
    "            urls.append(msg)\n",
    "        respose = {\n",
    "            \"code\": 200,\n",
    "            \"urls\": urls\n",
    "        }\n",
    "        return jsonify(respose)"
   ]
  },
  {
   "cell_type": "code",
   "execution_count": 10,
   "metadata": {},
   "outputs": [
    {
     "name": "stdout",
     "output_type": "stream",
     "text": [
      "Loaded model: ConvNeXt_tiny\n"
     ]
    }
   ],
   "source": [
    "# load the ModelHub\n",
    "import sys\n",
    "sys.path.append(os.path.join(os.path.dirname(__file__), 'ModelHub'))\n",
    "from ModelHub import ModelHub, get_image_by_name\n",
    "modelHub = ModelHub()"
   ]
  },
  {
   "cell_type": "code",
   "execution_count": 11,
   "metadata": {},
   "outputs": [],
   "source": [
    "def resolve_data_json(data):\n",
    "    ''' resolve the data json\n",
    "    '''\n",
    "    if 'local_image' in data:\n",
    "        data['image'] = get_image_by_name(data['local_image'])\n",
    "    if 'url_image' in data:\n",
    "        raise NotImplementedError('url_image is not implemented')\n",
    "    return data"
   ]
  },
  {
   "cell_type": "code",
   "execution_count": 12,
   "metadata": {},
   "outputs": [],
   "source": [
    "def dispatch(model_name, data):\n",
    "    global modelHub\n",
    "    ''' dispatch the model\n",
    "    '''\n",
    "    return modelHub.process(model_name, data)\n",
    "\n",
    "@api.route('/ml/dispatch/<model>/<data>', methods=['POST'])\n",
    "def ondispatch(model, data):\n",
    "    model = model.strip()\n",
    "    if model == 'TESTMODEL':\n",
    "        return jsonify({\n",
    "            'code': 200,\n",
    "            'message': 'Test success!'\n",
    "        })\n",
    "\n",
    "    if not os.path.exists(os.path.join(UPLOAD_PATH, data)):\n",
    "        return jsonify({\n",
    "            'code': 404,\n",
    "            'message': 'image not found'\n",
    "        })\n",
    "    \n",
    "    return dispatch(model, {\n",
    "        'image': get_image_by_name(data)\n",
    "    })\n",
    "\n",
    "@api.route('/ml/dispatch', methods=['POST'])\n",
    "def ondispatch_new():\n",
    "    try:\n",
    "        model = request.json.get('model')\n",
    "        print(request.get_json())\n",
    "        return dispatch(model, resolve_data_json(request.get_json()))\n",
    "        \n",
    "    except Exception as e:\n",
    "        return jsonify({\n",
    "            'code': 500,\n",
    "            'message': str(e)\n",
    "        })"
   ]
  },
  {
   "cell_type": "code",
   "execution_count": 13,
   "metadata": {},
   "outputs": [
    {
     "name": "stdout",
     "output_type": "stream",
     "text": [
      "dict_keys(['ConvNeXt_tiny'])\n"
     ]
    }
   ],
   "source": [
    "# ===DEBUG===\n",
    "print(modelHub.get_names())"
   ]
  },
  {
   "cell_type": "code",
   "execution_count": 14,
   "metadata": {},
   "outputs": [
    {
     "name": "stdout",
     "output_type": "stream",
     "text": [
      " * Serving Flask app \"MLHub\" (lazy loading)\n",
      " * Environment: production\n",
      "\u001b[31m   WARNING: This is a development server. Do not use it in a production deployment.\u001b[0m\n",
      "\u001b[2m   Use a production WSGI server instead.\u001b[0m\n",
      " * Debug mode: off\n"
     ]
    },
    {
     "name": "stderr",
     "output_type": "stream",
     "text": [
      " * Running on http://127.0.0.1:7001/ (Press CTRL+C to quit)\n"
     ]
    }
   ],
   "source": [
    "app = Flask(\"MLHub\")\n",
    "app.register_blueprint(api, url_prefix='/api')\n",
    "app.run(port=_PORT_)"
   ]
  }
 ],
 "metadata": {
  "kernelspec": {
   "display_name": "Python 3.9.7 ('base')",
   "language": "python",
   "name": "python3"
  },
  "language_info": {
   "codemirror_mode": {
    "name": "ipython",
    "version": 3
   },
   "file_extension": ".py",
   "mimetype": "text/x-python",
   "name": "python",
   "nbconvert_exporter": "python",
   "pygments_lexer": "ipython3",
   "version": "3.9.7"
  },
  "orig_nbformat": 4,
  "vscode": {
   "interpreter": {
    "hash": "679ca3d7e10d4fea823e60e28cb6f57bfb034a2481868839314afba603aaea83"
   }
  }
 },
 "nbformat": 4,
 "nbformat_minor": 2
}
